{
  "nbformat": 4,
  "nbformat_minor": 0,
  "metadata": {
    "colab": {
      "name": "filtering eeg file.ipynb",
      "private_outputs": true,
      "provenance": []
    },
    "kernelspec": {
      "name": "python3",
      "display_name": "Python 3"
    },
    "language_info": {
      "name": "python"
    },
    "accelerator": "GPU"
  },
  "cells": [
    {
      "cell_type": "code",
      "metadata": {
        "id": "8mx6ssmraaXD"
      },
      "source": [
        "#file=r'/content/00000355_s003_t000.edf'\n",
        "from google.colab import drive\n",
        "\n",
        "drive.mount(\"/content/gdrive\")"
      ],
      "execution_count": null,
      "outputs": []
    },
    {
      "cell_type": "code",
      "metadata": {
        "id": "JmQdEi2jbJrX"
      },
      "source": [
        "file\n"
      ],
      "execution_count": null,
      "outputs": []
    },
    {
      "cell_type": "code",
      "metadata": {
        "id": "A6rWeSC2ehXF"
      },
      "source": [
        "pip install -U mne"
      ],
      "execution_count": null,
      "outputs": []
    },
    {
      "cell_type": "code",
      "metadata": {
        "id": "z--lg7gDgN72"
      },
      "source": [
        "import mne\n",
        "import scipy\n",
        "import matplotlib.pyplot as plt"
      ],
      "execution_count": null,
      "outputs": []
    },
    {
      "cell_type": "code",
      "metadata": {
        "id": "8g2xYHlBg_Nk"
      },
      "source": [
        "def nb_channels_file(filename):\n",
        "    file = filename\n",
        "    data = mne.io.read_raw_edf(file)\n",
        "    channels = data.ch_names\n",
        "    return len(channels)"
      ],
      "execution_count": null,
      "outputs": []
    },
    {
      "cell_type": "code",
      "metadata": {
        "id": "tF5rQRR1hJVh"
      },
      "source": [
        "nb_channels_file(file)"
      ],
      "execution_count": null,
      "outputs": []
    },
    {
      "cell_type": "code",
      "metadata": {
        "id": "r8rfWfZ5gTQ8"
      },
      "source": [
        "#une fonction qui retourne un dictionnaire tel que chaque cle représente un fichier edf \n",
        "#et chaque valeur représente le nombre de channels de ce fichier\n",
        "#pour chaque patient passé avec son ID en paramètre\n",
        "def patient_files_channels(ID):\n",
        "    Dict = {}\n",
        "    keys=fichiers_patient(ID)\n",
        "    Values=[]\n",
        "    for file in keys:\n",
        "       Values.append(nb_channels_file(file))\n",
        "    Dict = {}\n",
        "    for i in range(len(keys)):\n",
        "       Dict[keys[i]] = Values[i]\n",
        "    return Dict;"
      ],
      "execution_count": null,
      "outputs": []
    },
    {
      "cell_type": "code",
      "metadata": {
        "id": "pZ_sYuOVgg2Z"
      },
      "source": [
        "def affiche_signaux_file(file):\n",
        "    n=nb_channels_file(file)\n",
        "    data = mne.io.read_raw_edf(file)\n",
        "    raw_data = data.get_data()\n",
        "        \n",
        "    for i in range(n):\n",
        "        sig=data.get_data()[i]\n",
        "        plt.plot(sig[:4999])\n",
        "        plt.title(\"signal channel\",i)\n",
        "        plt.show()\n",
        "        \n",
        "  "
      ],
      "execution_count": null,
      "outputs": []
    },
    {
      "cell_type": "code",
      "metadata": {
        "id": "lfyM4m34g4LN"
      },
      "source": [
        "affiche_signaux_file(file)"
      ],
      "execution_count": null,
      "outputs": []
    },
    {
      "cell_type": "code",
      "metadata": {
        "id": "JJ0-Ann9g7k0"
      },
      "source": [
        "data = mne.io.read_raw_edf(file)\n",
        "raw_data = data.get_data()"
      ],
      "execution_count": null,
      "outputs": []
    },
    {
      "cell_type": "code",
      "metadata": {
        "id": "F5c4SEVGiAD-"
      },
      "source": [
        "data"
      ],
      "execution_count": null,
      "outputs": []
    },
    {
      "cell_type": "code",
      "metadata": {
        "id": "QydvWA_1iBsO"
      },
      "source": [
        "info = data.info\n",
        "channels = data.ch_names"
      ],
      "execution_count": null,
      "outputs": []
    },
    {
      "cell_type": "code",
      "metadata": {
        "id": "UTE1VZ7yizEO"
      },
      "source": [
        "raw_data"
      ],
      "execution_count": null,
      "outputs": []
    },
    {
      "cell_type": "code",
      "metadata": {
        "id": "vm-yNGNzi3lN"
      },
      "source": [
        "raw_data.shape"
      ],
      "execution_count": null,
      "outputs": []
    },
    {
      "cell_type": "code",
      "metadata": {
        "id": "R4z7HBC9jDEb"
      },
      "source": [
        "import matplotlib.pyplot as plt\n",
        "\n",
        "plt.plot(raw_data[33,:90000])\n",
        "plt.title(\"Raw EEG, electrode 0, samples 0-4999\")\n",
        "plt.show()"
      ],
      "execution_count": null,
      "outputs": []
    },
    {
      "cell_type": "code",
      "metadata": {
        "id": "IlyPTrYojThY"
      },
      "source": [
        ""
      ],
      "execution_count": null,
      "outputs": []
    },
    {
      "cell_type": "code",
      "metadata": {
        "id": "cBZ59H8Al-yH"
      },
      "source": [
        ""
      ],
      "execution_count": null,
      "outputs": []
    },
    {
      "cell_type": "code",
      "metadata": {
        "id": "nmGQ4OhXmBuu"
      },
      "source": [
        ""
      ],
      "execution_count": null,
      "outputs": []
    },
    {
      "cell_type": "code",
      "metadata": {
        "id": "1q8bKPOAmFKN"
      },
      "source": [
        ""
      ],
      "execution_count": null,
      "outputs": []
    },
    {
      "cell_type": "code",
      "metadata": {
        "id": "pEFwr5Hcnez1"
      },
      "source": [
        "##########################################\n",
        "#                                        #\n",
        "#            FILTRING                    #\n",
        "#                                        #\n",
        "##########################################"
      ],
      "execution_count": null,
      "outputs": []
    },
    {
      "cell_type": "code",
      "metadata": {
        "id": "GE_bMJHdrsI6"
      },
      "source": [
        "#Butterworth filter (Low pass filter)"
      ],
      "execution_count": null,
      "outputs": []
    },
    {
      "cell_type": "code",
      "metadata": {
        "id": "UXrTY_IkueWQ"
      },
      "source": [
        "def filtrage_signaux_patient_channel(ID,i):\n",
        "    list_fichiers=fichiers_patient(ID)\n",
        "    list_fichiers_filtred=[]\n",
        "    for fichier in list_fichiers:\n",
        "            data = mne.io.read_raw_edf(fichier)\n",
        "            raw_data = data.get_data()\n",
        "            sig=data.get_data()[i]\n",
        "            \n",
        "            cutoff=40.\n",
        "            fs=1000\n",
        "            nyq = 0.5 * fs\n",
        "            low = cutoff / nyq\n",
        "            b, a = scipy.signal.butter(3, low, btype='low', analog=False)\n",
        "            filtered_signal=scipy.signal.filtfilt(b,a,sig,axis=0)\n",
        "            list_fichiers_filtred.append(filtered_signal)\n",
        "        \n",
        "    return list_fichiers_filtred  #retourne une liste d'array "
      ],
      "execution_count": null,
      "outputs": []
    },
    {
      "cell_type": "code",
      "metadata": {
        "id": "45vt8D2s41UU"
      },
      "source": [
        "def filtrage_file_channel(file,i):  #i:channel\n",
        "    data = mne.io.read_raw_edf(file)\n",
        "    raw_data = data.get_data()\n",
        "    cutoff=40.\n",
        "    fs=1000\n",
        "    nyq = 0.5 * fs\n",
        "    low = cutoff / nyq\n",
        "    b, a = scipy.signal.butter(3, low, btype='low', analog=False)\n",
        "    sig=data.get_data()[i]\n",
        "    filtered_signal1=scipy.signal.filtfilt(b,a,sig,axis=0)\n",
        "    return filtered_signal1   #retourne un array (un signal filtré)"
      ],
      "execution_count": null,
      "outputs": []
    },
    {
      "cell_type": "code",
      "metadata": {
        "id": "mGPugLmoHIAT"
      },
      "source": [
        "filt=filtrage_file_channel(file,0)"
      ],
      "execution_count": null,
      "outputs": []
    },
    {
      "cell_type": "code",
      "metadata": {
        "id": "O8HC1kcyHvjT"
      },
      "source": [
        "plt.plot(raw_data[0][:90000])\n",
        "plt.title(\"original signal\")\n",
        "plt.show()\n",
        "plt.plot(filt[:90000])\n",
        "plt.title(\"filtered signal : Lowpass Butterworth filter \")\n",
        "plt.show()"
      ],
      "execution_count": null,
      "outputs": []
    },
    {
      "cell_type": "code",
      "metadata": {
        "id": "io4UwdHuM7y4"
      },
      "source": [
        "#FFT filter (smoothing filter)"
      ],
      "execution_count": null,
      "outputs": []
    },
    {
      "cell_type": "code",
      "metadata": {
        "id": "SEtamNV-Nh3_"
      },
      "source": [
        "import numpy as np\n",
        "import scipy.fftpack\n",
        "def filtrage_file_channel_FFT(i):  #i:channel\n",
        "   # data = mne.io.read_raw_edf(file)\n",
        "   # raw_data = data.get_data()\n",
        "    sig=i\n",
        "    \n",
        "    sig_fft = scipy.fftpack.fft(sig)\n",
        "    time_step = 0.02\n",
        "    period = 5.\n",
        "    power = np.abs(sig_fft)**2\n",
        "    sample_freq = scipy.fftpack.fftfreq(sig.size, d=time_step)\n",
        "    pos_mask = np.where(sample_freq > 0)\n",
        "    freqs = sample_freq[pos_mask]\n",
        "    peak_freq = freqs[power[pos_mask].argmax()]\n",
        "    np.allclose(peak_freq, 1./period)\n",
        "    \n",
        "    high_freq_fft = sig_fft.copy()\n",
        "    high_freq_fft[np.abs(sample_freq) > peak_freq] = 0\n",
        "    filtered_sig = scipy.fftpack.ifft(high_freq_fft)\n",
        "    return filtered_sig  #retourne un array qui représente le résultat du signal filtré sur un channel i "
      ],
      "execution_count": null,
      "outputs": []
    },
    {
      "cell_type": "code",
      "metadata": {
        "id": "s_hDiA2tNmDO"
      },
      "source": [
        "filt2=filtrage_file_channel_FFT(filt)"
      ],
      "execution_count": null,
      "outputs": []
    },
    {
      "cell_type": "code",
      "metadata": {
        "id": "7gIxl5IsOQkU"
      },
      "source": [
        "plt.plot(raw_data[0][:90000])\n",
        "plt.title(\"original signal\")\n",
        "plt.show()\n",
        "plt.plot(filt[:90000])\n",
        "plt.title(\"filtered signal : Lowpass Butterworth filter \")\n",
        "plt.show()\n",
        "plt.plot(filt2[:90000])\n",
        "plt.title(\"filtered signal : FFT filter (smoothing filter) \")\n",
        "plt.show()"
      ],
      "execution_count": null,
      "outputs": []
    },
    {
      "cell_type": "code",
      "metadata": {
        "id": "ozHJmHa0Qma9"
      },
      "source": [
        "##########################################\n",
        "#                                        #\n",
        "#            DECOMPOS                    #\n",
        "#                                        #\n",
        "##########################################"
      ],
      "execution_count": null,
      "outputs": []
    },
    {
      "cell_type": "code",
      "metadata": {
        "id": "fotekgFsSL3m"
      },
      "source": [
        "\n",
        "filt2"
      ],
      "execution_count": null,
      "outputs": []
    },
    {
      "cell_type": "code",
      "metadata": {
        "id": "MfHFR-6PSQJi"
      },
      "source": [
        "import pandas as pd \n",
        "from pywt import wavedec\n",
        "def decompose_signal_channel(filt2,i):\n",
        "    #data = mne.io.read_raw_edf(file)\n",
        "   # raw_data = data.get_data()\n",
        "    channels = data.ch_names\n",
        "    data1=filt2\n",
        "    #channel_name=channels[channel]\n",
        "    print(channels[i])\n",
        "    # number of levels we are interested in\n",
        "    level = 6\n",
        "\n",
        "    # transpose the data because its a time-series package\n",
        "    data_t = data1.transpose()\n",
        "\n",
        "   # get the wavelet coefficients at each level in a list\n",
        "    coeffs_list = wavedec(data1, wavelet='db4', level=level)\n",
        "   \n",
        "    coefficients=['A6', 'D6', 'D5', 'D4', 'D3', 'D2', 'D1']\n",
        "    \n",
        "   \n",
        "    L=[[]]\n",
        "    for i in range(len(coefficients)):\n",
        "      array=coeffs_list[i].flatten()\n",
        "      list1=array.tolist()\n",
        "      L.append(list1)\n",
        "        \n",
        "    L.remove(L[0])\n",
        "    df = pd.DataFrame(columns=['A6', 'D6', 'D5', 'D4', 'D3', 'D2', 'D1'])\n",
        "    Series_coefficients=[]\n",
        "    for  i in range(len(coeffs_list)):\n",
        "     Series_coefficients.append(pd.Series(L[i]))\n",
        "    \n",
        "    \n",
        "    for i in range(len(coefficients)):\n",
        "      df[coefficients[i]]=Series_coefficients[i]\n",
        "    \n",
        "    return(df)"
      ],
      "execution_count": null,
      "outputs": []
    },
    {
      "cell_type": "code",
      "metadata": {
        "id": "fVcPHNgIT_b6"
      },
      "source": [
        "df1=decompose_signal_channel(filt2,0)"
      ],
      "execution_count": null,
      "outputs": []
    },
    {
      "cell_type": "code",
      "metadata": {
        "id": "a7tCv2B0U5Rn"
      },
      "source": [
        "df1"
      ],
      "execution_count": null,
      "outputs": []
    },
    {
      "cell_type": "code",
      "metadata": {
        "id": "boXzE5M1VeBI"
      },
      "source": [
        "##########################################\n",
        "#                                        #\n",
        "#            FEATures eng                #\n",
        "#                                        #\n",
        "##########################################"
      ],
      "execution_count": null,
      "outputs": []
    },
    {
      "cell_type": "code",
      "metadata": {
        "id": "6Z63xIAbYYhQ"
      },
      "source": [
        "List_one=[1 for i in range(5182)]"
      ],
      "execution_count": null,
      "outputs": []
    },
    {
      "cell_type": "code",
      "metadata": {
        "id": "5ShLilNgm5sz"
      },
      "source": [
        "List_one"
      ],
      "execution_count": null,
      "outputs": []
    },
    {
      "cell_type": "code",
      "metadata": {
        "id": "42V2_Qjim-hu"
      },
      "source": [
        "Serie_one=pd.Series(List_one)"
      ],
      "execution_count": null,
      "outputs": []
    },
    {
      "cell_type": "code",
      "metadata": {
        "id": "SJx9G0AsnFCp"
      },
      "source": [
        "Serie_one"
      ],
      "execution_count": null,
      "outputs": []
    },
    {
      "cell_type": "code",
      "metadata": {
        "id": "3paqdDxQnGcJ"
      },
      "source": [
        "def minus_small(data):    \n",
        "  # find the smallest value for each data column (channel)...\n",
        "  min_val = data.min()\n",
        "  # ...and subtract it from all the data in the column and add one\n",
        "  List_one=[1 for i in range(5182)]\n",
        "  Series_one=pd.Series(List_one)\n",
        "  data_substract = np.subtract(data,min_val)\n",
        "  data_modified=np.add(data_substract,List_one)\n",
        "\n",
        "\n",
        "  return data"
      ],
      "execution_count": null,
      "outputs": []
    },
    {
      "cell_type": "code",
      "metadata": {
        "id": "_JCbX2ndnPS0"
      },
      "source": [
        "minus_small(df1['A6'])"
      ],
      "execution_count": null,
      "outputs": []
    },
    {
      "cell_type": "code",
      "metadata": {
        "id": "1TjlKMEUnS0z"
      },
      "source": [
        "df1.sum(axis=0)"
      ],
      "execution_count": null,
      "outputs": []
    },
    {
      "cell_type": "code",
      "metadata": {
        "id": "eF1ch6n_niXJ"
      },
      "source": [
        "df_sum=df1.sum(axis=0)\n",
        "df_sum"
      ],
      "execution_count": null,
      "outputs": []
    },
    {
      "cell_type": "code",
      "metadata": {
        "id": "_1egUDFPnm6A"
      },
      "source": [
        "absolute_sum=df1.sum(axis=0)"
      ],
      "execution_count": null,
      "outputs": []
    },
    {
      "cell_type": "code",
      "metadata": {
        "id": "nGa-lEEPnuGI"
      },
      "source": [
        "absolute_sum"
      ],
      "execution_count": null,
      "outputs": []
    },
    {
      "cell_type": "code",
      "metadata": {
        "id": "dqPElw98nwfO"
      },
      "source": [
        "def ave(data, output=False):\n",
        "    # get the mean\n",
        "    mean_data = data.mean()\n",
        "    return(mean_data)"
      ],
      "execution_count": null,
      "outputs": []
    },
    {
      "cell_type": "code",
      "metadata": {
        "id": "f3JG8z7Tn3J2"
      },
      "source": [
        "ave(df1['A6'])"
      ],
      "execution_count": null,
      "outputs": []
    },
    {
      "cell_type": "code",
      "metadata": {
        "id": "ISyFiGEan7Kh"
      },
      "source": [
        "def mean_abs(data, output=False):\n",
        "    # get the mean of the absolute values\n",
        "    mean_abs_data = data.abs().mean()\n",
        "    return mean_abs_data"
      ],
      "execution_count": null,
      "outputs": []
    },
    {
      "cell_type": "code",
      "metadata": {
        "id": "N9bgq1Hcn-yQ"
      },
      "source": [
        "mean_abs(df1['A6'])"
      ],
      "execution_count": null,
      "outputs": []
    },
    {
      "cell_type": "code",
      "metadata": {
        "id": "ToM-5s7Vr5iK"
      },
      "source": [
        "coefficients=['A6', 'D6', 'D5', 'D4', 'D3', 'D2', 'D1']"
      ],
      "execution_count": null,
      "outputs": []
    },
    {
      "cell_type": "code",
      "metadata": {
        "id": "Lfow5CB9reXX"
      },
      "source": [
        "Lmean_abs =['mean_abs_A6', 'mean_abs_D6', 'mean_abs_D5', 'mean_abs_D4', 'mean_abs_D3', 'mean_abs_D2', 'mean_abs_D1']"
      ],
      "execution_count": null,
      "outputs": []
    },
    {
      "cell_type": "code",
      "metadata": {
        "id": "RkJ4ZLCjoJ3v"
      },
      "source": [
        "dfM_abs = pd.DataFrame(columns=Lmean_abs)"
      ],
      "execution_count": null,
      "outputs": []
    },
    {
      "cell_type": "code",
      "metadata": {
        "id": "zEvlYT4ErmDe"
      },
      "source": [
        "def m_abs(df1) :  #retourne une liste des means abs a partir d une channel decompposee (dataframe )\n",
        "    LmAbs=[]\n",
        "    for i in range (0,7) :\n",
        "       t=mean_abs(df1[coefficients[i]])\n",
        "       LmAbs.append(t)\n",
        "    return LmAbs"
      ],
      "execution_count": null,
      "outputs": []
    },
    {
      "cell_type": "code",
      "metadata": {
        "id": "A6qHg-b7tmWc"
      },
      "source": [
        "LmAbs=mean_abs (df1)"
      ],
      "execution_count": null,
      "outputs": []
    },
    {
      "cell_type": "code",
      "metadata": {
        "id": "T-tWtPkIrt1U"
      },
      "source": [
        "dfM_abs"
      ],
      "execution_count": null,
      "outputs": []
    },
    {
      "cell_type": "code",
      "metadata": {
        "id": "N71PxV17s2i2"
      },
      "source": [
        "dfM_abs.loc[1,:]=LmAbs "
      ],
      "execution_count": null,
      "outputs": []
    },
    {
      "cell_type": "code",
      "metadata": {
        "id": "DndmB5-q_6gU"
      },
      "source": [
        "dfM_abs"
      ],
      "execution_count": null,
      "outputs": []
    },
    {
      "cell_type": "code",
      "metadata": {
        "id": "F-NEiK44bPnu"
      },
      "source": [
        "raw_data.shape[0]"
      ],
      "execution_count": null,
      "outputs": []
    },
    {
      "cell_type": "code",
      "metadata": {
        "id": "2gFsni_4_9q0"
      },
      "source": [
        "for i in  range(raw_data.shape[0]):\n",
        "  df1=df1=decompose_signal_channel(raw_data[i],i)\n",
        "  LmAbs=m_abs(df1)\n",
        "  dfM_abs.loc[i,:]=LmAbs \n",
        "\n",
        "  \n"
      ],
      "execution_count": null,
      "outputs": []
    },
    {
      "cell_type": "code",
      "metadata": {
        "id": "Te4wCCNwXXxz"
      },
      "source": [
        "raw_data"
      ],
      "execution_count": null,
      "outputs": []
    },
    {
      "cell_type": "code",
      "metadata": {
        "id": "lZJiuuY9Xgc-"
      },
      "source": [
        "dfM_abs"
      ],
      "execution_count": null,
      "outputs": []
    },
    {
      "cell_type": "code",
      "metadata": {
        "id": "PGrT_6YGbg0q"
      },
      "source": [
        ""
      ],
      "execution_count": null,
      "outputs": []
    },
    {
      "cell_type": "code",
      "metadata": {
        "id": "Cozg0em_b-L7"
      },
      "source": [
        "channels"
      ],
      "execution_count": null,
      "outputs": []
    },
    {
      "cell_type": "code",
      "metadata": {
        "id": "jZun70IscG95"
      },
      "source": [
        "dfM_abs.insert(0, \"channel\", channels, True)"
      ],
      "execution_count": null,
      "outputs": []
    },
    {
      "cell_type": "code",
      "metadata": {
        "id": "hqnx25RncmiC"
      },
      "source": [
        "dfM_abs"
      ],
      "execution_count": null,
      "outputs": []
    },
    {
      "cell_type": "code",
      "metadata": {
        "id": "84QrrVPMcnWC"
      },
      "source": [
        "dfM_abs"
      ],
      "execution_count": null,
      "outputs": []
    },
    {
      "cell_type": "code",
      "metadata": {
        "id": "dcut-DUfeiIY"
      },
      "source": [
        "#df_a=dfM_abs.loc[0]"
      ],
      "execution_count": null,
      "outputs": []
    },
    {
      "cell_type": "code",
      "metadata": {
        "id": "v2cNKjYwfHoE"
      },
      "source": [
        "#df_a"
      ],
      "execution_count": null,
      "outputs": []
    },
    {
      "cell_type": "code",
      "metadata": {
        "id": "SQJpPj3RfTUQ"
      },
      "source": [
        "miindex = pd.MultiIndex.from_product([[\"x\",\"y\"], [\"10\",\"20\"]],names=['row-foo', 'row-bar'])"
      ],
      "execution_count": null,
      "outputs": []
    },
    {
      "cell_type": "code",
      "metadata": {
        "id": "lsfAeW360_qS"
      },
      "source": [
        "miindex"
      ],
      "execution_count": null,
      "outputs": []
    },
    {
      "cell_type": "code",
      "metadata": {
        "id": "kIlajcqE1d4r"
      },
      "source": [
        "micol = pd.MultiIndex.from_product([['a','b','c'], [\"1\",\"2\"]],names=['col-foo', 'col-bar'])"
      ],
      "execution_count": null,
      "outputs": []
    },
    {
      "cell_type": "code",
      "metadata": {
        "id": "nGgFlSVs8kVe"
      },
      "source": [
        "micol"
      ],
      "execution_count": null,
      "outputs": []
    },
    {
      "cell_type": "code",
      "metadata": {
        "id": "KlQpdDaG8lk9"
      },
      "source": [
        "df5 = pd.DataFrame(index=miindex, columns=micol).sort_index().sort_index(axis=1)"
      ],
      "execution_count": null,
      "outputs": []
    },
    {
      "cell_type": "code",
      "metadata": {
        "id": "ioqUsQD98udr"
      },
      "source": [
        "df5"
      ],
      "execution_count": null,
      "outputs": []
    },
    {
      "cell_type": "code",
      "metadata": {
        "id": "S-Uyx6qn8-eQ"
      },
      "source": [
        "df5.loc[ ('x','10'),('a', '2')]"
      ],
      "execution_count": null,
      "outputs": []
    },
    {
      "cell_type": "code",
      "metadata": {
        "id": "YvisECl7_kxB"
      },
      "source": [
        "miindex = pd.MultiIndex.from_product([[\"x\",\"y\"], [\"10\",\"20\"]],names=['row-foo', 'row-bar'])"
      ],
      "execution_count": null,
      "outputs": []
    }
  ]
}