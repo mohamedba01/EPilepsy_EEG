{
  "nbformat": 4,
  "nbformat_minor": 0,
  "metadata": {
    "colab": {
      "name": "statEpil.ipynb",
      "provenance": [],
      "collapsed_sections": []
    },
    "kernelspec": {
      "name": "python3",
      "display_name": "Python 3"
    },
    "language_info": {
      "name": "python"
    }
  },
  "cells": [
    {
      "cell_type": "code",
      "metadata": {
        "id": "jhkGNJUzamX7"
      },
      "source": [
        "from google.colab import drive"
      ],
      "execution_count": null,
      "outputs": []
    },
    {
      "cell_type": "code",
      "metadata": {
        "colab": {
          "base_uri": "https://localhost:8080/"
        },
        "id": "VyZfT4wsaowq",
        "outputId": "c85e33d6-7fc5-466c-a944-82dba41fe8f2"
      },
      "source": [
        "drive.mount('/content/ColabNotebooks/')"
      ],
      "execution_count": null,
      "outputs": [
        {
          "output_type": "stream",
          "text": [
            "Mounted at /content/ColabNotebooks/\n"
          ],
          "name": "stdout"
        }
      ]
    },
    {
      "cell_type": "code",
      "metadata": {
        "id": "wVVMACJfaqap"
      },
      "source": [
        "import numpy as np\n",
        "import pandas as pd\n",
        "import matplotlib.pyplot as plt\n",
        "import seaborn as sns\n",
        "df = pd.read_excel('/content/ColabNotebooks/MyDrive/ProjetEpilepsy01.xlsx')"
      ],
      "execution_count": null,
      "outputs": []
    },
    {
      "cell_type": "code",
      "metadata": {
        "colab": {
          "base_uri": "https://localhost:8080/",
          "height": 1000
        },
        "id": "RJ6fi7_faqdI",
        "outputId": "d8669cb5-96e7-4092-cf6c-e3289a446195"
      },
      "source": [
        "df.head(10)"
      ],
      "execution_count": null,
      "outputs": [
        {
          "output_type": "execute_result",
          "data": {
            "text/html": [
              "<div>\n",
              "<style scoped>\n",
              "    .dataframe tbody tr th:only-of-type {\n",
              "        vertical-align: middle;\n",
              "    }\n",
              "\n",
              "    .dataframe tbody tr th {\n",
              "        vertical-align: top;\n",
              "    }\n",
              "\n",
              "    .dataframe thead th {\n",
              "        text-align: right;\n",
              "    }\n",
              "</style>\n",
              "<table border=\"1\" class=\"dataframe\">\n",
              "  <thead>\n",
              "    <tr style=\"text-align: right;\">\n",
              "      <th></th>\n",
              "      <th>Horodateur</th>\n",
              "      <th>Patient age</th>\n",
              "      <th>Gender</th>\n",
              "      <th>TRADES BY SECTOR</th>\n",
              "      <th>social class</th>\n",
              "      <th>Region</th>\n",
              "      <th>What is the type of epilepsy you have?</th>\n",
              "      <th>Do you have a family member who was diagnosed with epilepsy?</th>\n",
              "      <th>If the answer is yes, what was the type of epilepsy he had?</th>\n",
              "      <th>What is/are the cause(s) of epilepsy seizures you had?</th>\n",
              "      <th>What is the treatment that was efficient in your case?</th>\n",
              "      <th>The Diagnosis that was applied(in your case) in order to detect the epilepsy</th>\n",
              "      <th>To which extent you think the treatment was efficient?</th>\n",
              "      <th>How was the impact of epilepsy on your personal life?</th>\n",
              "      <th>How was the impact of epilepsy on your professional life?</th>\n",
              "    </tr>\n",
              "  </thead>\n",
              "  <tbody>\n",
              "    <tr>\n",
              "      <th>0</th>\n",
              "      <td>NaT</td>\n",
              "      <td>Adults (25-64 years)</td>\n",
              "      <td>Male</td>\n",
              "      <td>Teaching</td>\n",
              "      <td>Middle class</td>\n",
              "      <td>East Africa</td>\n",
              "      <td>Focal</td>\n",
              "      <td>Yes</td>\n",
              "      <td>Generalized</td>\n",
              "      <td>Genetic conditions that result in brain injury...</td>\n",
              "      <td>Medication</td>\n",
              "      <td>EEG(electroencephalogram)</td>\n",
              "      <td>less than 30%</td>\n",
              "      <td>It didn't affect my personal life in a remarka...</td>\n",
              "      <td>Bad impact but it was possible to deal with it</td>\n",
              "    </tr>\n",
              "    <tr>\n",
              "      <th>1</th>\n",
              "      <td>NaT</td>\n",
              "      <td>Adults (25-64 years)</td>\n",
              "      <td>Male</td>\n",
              "      <td>Teaching</td>\n",
              "      <td>Middle class</td>\n",
              "      <td>Central Africa</td>\n",
              "      <td>Generalized</td>\n",
              "      <td>Yes</td>\n",
              "      <td>Generalized</td>\n",
              "      <td>Injury before birth</td>\n",
              "      <td>Medication</td>\n",
              "      <td>EEG(electroencephalogram)</td>\n",
              "      <td>between 30% and 60%</td>\n",
              "      <td>It didn't affect my personal life in a remarka...</td>\n",
              "      <td>Bad impact but it was possible to deal with it</td>\n",
              "    </tr>\n",
              "    <tr>\n",
              "      <th>2</th>\n",
              "      <td>NaT</td>\n",
              "      <td>Youth (15-24 years)</td>\n",
              "      <td>Female</td>\n",
              "      <td>Secretariat</td>\n",
              "      <td>Upper class</td>\n",
              "      <td>Central Africa</td>\n",
              "      <td>Focal</td>\n",
              "      <td>No</td>\n",
              "      <td>NaN</td>\n",
              "      <td>Low oxygen during birth</td>\n",
              "      <td>Medication</td>\n",
              "      <td>MEG(Magnetoencephalography)</td>\n",
              "      <td>less than 30%</td>\n",
              "      <td>Very bad and determinant for my personal life</td>\n",
              "      <td>Bad impact but it was possible to deal with it</td>\n",
              "    </tr>\n",
              "    <tr>\n",
              "      <th>3</th>\n",
              "      <td>NaT</td>\n",
              "      <td>Adults (25-64 years)</td>\n",
              "      <td>Male</td>\n",
              "      <td>Journalism</td>\n",
              "      <td>Upper class</td>\n",
              "      <td>East Asia</td>\n",
              "      <td>Generalized</td>\n",
              "      <td>Yes</td>\n",
              "      <td>Generalized</td>\n",
              "      <td>Injury before birth</td>\n",
              "      <td>Surgery</td>\n",
              "      <td>EEG(electroencephalogram)</td>\n",
              "      <td>between 60% and 90%</td>\n",
              "      <td>Bad impact but it was possible to deal with it</td>\n",
              "      <td>It didnt affect my professional life in a rema...</td>\n",
              "    </tr>\n",
              "    <tr>\n",
              "      <th>4</th>\n",
              "      <td>NaT</td>\n",
              "      <td>Adults (25-64 years)</td>\n",
              "      <td>Female</td>\n",
              "      <td>Industry</td>\n",
              "      <td>Middle class</td>\n",
              "      <td>North America</td>\n",
              "      <td>Focal</td>\n",
              "      <td>No</td>\n",
              "      <td>NaN</td>\n",
              "      <td>Developmental disorders, such as autism and ne...</td>\n",
              "      <td>Medication</td>\n",
              "      <td>MRI(Magnetic Resonance Imaging)</td>\n",
              "      <td>between 30% and 60%</td>\n",
              "      <td>Bad impact but it was possible to deal with it</td>\n",
              "      <td>It didnt affect my professional life in a rema...</td>\n",
              "    </tr>\n",
              "    <tr>\n",
              "      <th>5</th>\n",
              "      <td>NaT</td>\n",
              "      <td>Seniors (65 years and over)</td>\n",
              "      <td>Female</td>\n",
              "      <td>Transport-Logistics</td>\n",
              "      <td>Middle class</td>\n",
              "      <td>Central Africa</td>\n",
              "      <td>Focal</td>\n",
              "      <td>No</td>\n",
              "      <td>NaN</td>\n",
              "      <td>Low oxygen during birth</td>\n",
              "      <td>Medication</td>\n",
              "      <td>MRI(Magnetic Resonance Imaging)</td>\n",
              "      <td>between 30% and 60%</td>\n",
              "      <td>Bad impact but it was possible to deal with it</td>\n",
              "      <td>Very bad and determinant for my career</td>\n",
              "    </tr>\n",
              "    <tr>\n",
              "      <th>6</th>\n",
              "      <td>NaT</td>\n",
              "      <td>Youth (15-24 years)</td>\n",
              "      <td>Female</td>\n",
              "      <td>It, Telecoms, Web</td>\n",
              "      <td>Middle class</td>\n",
              "      <td>Central Europe</td>\n",
              "      <td>Focal</td>\n",
              "      <td>No</td>\n",
              "      <td>NaN</td>\n",
              "      <td>Low oxygen during birth, Serious illness or ve...</td>\n",
              "      <td>Surgery</td>\n",
              "      <td>EEG(electroencephalogram)</td>\n",
              "      <td>between 30% and 60%</td>\n",
              "      <td>Very bad and determinant for my personal life</td>\n",
              "      <td>Bad impact but it was possible to deal with it</td>\n",
              "    </tr>\n",
              "    <tr>\n",
              "      <th>7</th>\n",
              "      <td>NaT</td>\n",
              "      <td>Seniors (65 years and over)</td>\n",
              "      <td>Male</td>\n",
              "      <td>It, Telecoms, Web</td>\n",
              "      <td>Upper class</td>\n",
              "      <td>East Asia</td>\n",
              "      <td>Focal</td>\n",
              "      <td>Yes</td>\n",
              "      <td>Focal</td>\n",
              "      <td>Low oxygen during birth</td>\n",
              "      <td>Medication</td>\n",
              "      <td>MRI(Magnetic Resonance Imaging)</td>\n",
              "      <td>between 60% and 90%</td>\n",
              "      <td>Bad impact but it was possible to deal with it</td>\n",
              "      <td>It didnt affect my professional life in a rema...</td>\n",
              "    </tr>\n",
              "    <tr>\n",
              "      <th>8</th>\n",
              "      <td>NaT</td>\n",
              "      <td>Adults (25-64 years)</td>\n",
              "      <td>Female</td>\n",
              "      <td>Audiovisual, Cinema</td>\n",
              "      <td>Lower class</td>\n",
              "      <td>North Africa</td>\n",
              "      <td>Generalized</td>\n",
              "      <td>No</td>\n",
              "      <td>NaN</td>\n",
              "      <td>Brain tumors, Dementia/Alzheimer's disease, Ge...</td>\n",
              "      <td>Surgery</td>\n",
              "      <td>MRI(Magnetic Resonance Imaging)</td>\n",
              "      <td>less than 30%</td>\n",
              "      <td>Very bad and determinant for my personal life</td>\n",
              "      <td>Very bad and determinant for my career</td>\n",
              "    </tr>\n",
              "    <tr>\n",
              "      <th>9</th>\n",
              "      <td>NaT</td>\n",
              "      <td>Youth (15-24 years)</td>\n",
              "      <td>Female</td>\n",
              "      <td>It, Telecoms, Web</td>\n",
              "      <td>Middle class</td>\n",
              "      <td>North Africa</td>\n",
              "      <td>Focal</td>\n",
              "      <td>Yes</td>\n",
              "      <td>Focal</td>\n",
              "      <td>Low oxygen during birth, Genetic conditions th...</td>\n",
              "      <td>Medication</td>\n",
              "      <td>EEG(electroencephalogram)</td>\n",
              "      <td>between 30% and 60%</td>\n",
              "      <td>Bad impact but it was possible to deal with it</td>\n",
              "      <td>It didnt affect my professional life in a rema...</td>\n",
              "    </tr>\n",
              "  </tbody>\n",
              "</table>\n",
              "</div>"
            ],
            "text/plain": [
              "  Horodateur  ... How was the impact of epilepsy on your professional life?\n",
              "0        NaT  ...     Bad impact but it was possible to deal with it       \n",
              "1        NaT  ...     Bad impact but it was possible to deal with it       \n",
              "2        NaT  ...     Bad impact but it was possible to deal with it       \n",
              "3        NaT  ...  It didnt affect my professional life in a rema...       \n",
              "4        NaT  ...  It didnt affect my professional life in a rema...       \n",
              "5        NaT  ...             Very bad and determinant for my career       \n",
              "6        NaT  ...     Bad impact but it was possible to deal with it       \n",
              "7        NaT  ...  It didnt affect my professional life in a rema...       \n",
              "8        NaT  ...             Very bad and determinant for my career       \n",
              "9        NaT  ...  It didnt affect my professional life in a rema...       \n",
              "\n",
              "[10 rows x 15 columns]"
            ]
          },
          "metadata": {
            "tags": []
          },
          "execution_count": 4
        }
      ]
    },
    {
      "cell_type": "code",
      "metadata": {
        "colab": {
          "base_uri": "https://localhost:8080/"
        },
        "id": "9GQMVsrjaqfh",
        "outputId": "d5793946-0f03-4e12-cd0c-811d378e87b5"
      },
      "source": [
        "df.shape"
      ],
      "execution_count": null,
      "outputs": [
        {
          "output_type": "execute_result",
          "data": {
            "text/plain": [
              "(37, 15)"
            ]
          },
          "metadata": {
            "tags": []
          },
          "execution_count": 5
        }
      ]
    },
    {
      "cell_type": "code",
      "metadata": {
        "colab": {
          "base_uri": "https://localhost:8080/"
        },
        "id": "8JFxt8B0aqh7",
        "outputId": "be97537f-31f2-4373-808f-c6c09635d83e"
      },
      "source": [
        "df.columns"
      ],
      "execution_count": null,
      "outputs": [
        {
          "output_type": "execute_result",
          "data": {
            "text/plain": [
              "Index(['Horodateur', 'Patient age ', 'Gender', 'TRADES BY SECTOR',\n",
              "       'social class', 'Region', 'What is the type of epilepsy you have?',\n",
              "       'Do you have a family member who was diagnosed with epilepsy?',\n",
              "       'If the answer is yes, what was the type of epilepsy he had?',\n",
              "       'What is/are the cause(s) of epilepsy seizures you had?',\n",
              "       'What is the treatment that was efficient in your case?',\n",
              "       'The Diagnosis that was applied(in your case) in order to detect the epilepsy',\n",
              "       'To which extent you think the treatment was efficient?',\n",
              "       'How was the impact of epilepsy on your personal life?',\n",
              "       'How was the impact of epilepsy on your professional life?'],\n",
              "      dtype='object')"
            ]
          },
          "metadata": {
            "tags": []
          },
          "execution_count": 6
        }
      ]
    },
    {
      "cell_type": "code",
      "metadata": {
        "colab": {
          "base_uri": "https://localhost:8080/"
        },
        "id": "GK_zbVuMaqkR",
        "outputId": "db7d9b68-8409-43b0-fce1-c9b52d51d55f"
      },
      "source": [
        "df.nunique()"
      ],
      "execution_count": null,
      "outputs": [
        {
          "output_type": "execute_result",
          "data": {
            "text/plain": [
              "Horodateur                                                                      12\n",
              "Patient age                                                                      4\n",
              "Gender                                                                           2\n",
              "TRADES BY SECTOR                                                                14\n",
              "social class                                                                     3\n",
              "Region                                                                          16\n",
              "What is the type of epilepsy you have?                                           2\n",
              "Do you have a family member who was diagnosed with epilepsy?                     2\n",
              "If the answer is yes, what was the type of epilepsy he had?                      2\n",
              "What is/are the cause(s) of epilepsy seizures you had?                          19\n",
              "What is the treatment that was efficient in your case?                           3\n",
              "The Diagnosis that was applied(in your case) in order to detect the epilepsy     3\n",
              "To which extent you think the treatment was efficient?                           4\n",
              "How was the impact of epilepsy on your personal life?                            3\n",
              "How was the impact of epilepsy on your professional life?                        3\n",
              "dtype: int64"
            ]
          },
          "metadata": {
            "tags": []
          },
          "execution_count": 7
        }
      ]
    },
    {
      "cell_type": "code",
      "metadata": {
        "colab": {
          "base_uri": "https://localhost:8080/"
        },
        "id": "L4JMs-Knaqm2",
        "outputId": "321e6e45-cceb-4774-d878-6ad720a2f47e"
      },
      "source": [
        "df.info()"
      ],
      "execution_count": null,
      "outputs": [
        {
          "output_type": "stream",
          "text": [
            "<class 'pandas.core.frame.DataFrame'>\n",
            "RangeIndex: 37 entries, 0 to 36\n",
            "Data columns (total 15 columns):\n",
            " #   Column                                                                        Non-Null Count  Dtype         \n",
            "---  ------                                                                        --------------  -----         \n",
            " 0   Horodateur                                                                    12 non-null     datetime64[ns]\n",
            " 1   Patient age                                                                   37 non-null     object        \n",
            " 2   Gender                                                                        37 non-null     object        \n",
            " 3   TRADES BY SECTOR                                                              37 non-null     object        \n",
            " 4   social class                                                                  37 non-null     object        \n",
            " 5   Region                                                                        37 non-null     object        \n",
            " 6   What is the type of epilepsy you have?                                        37 non-null     object        \n",
            " 7   Do you have a family member who was diagnosed with epilepsy?                  37 non-null     object        \n",
            " 8   If the answer is yes, what was the type of epilepsy he had?                   18 non-null     object        \n",
            " 9   What is/are the cause(s) of epilepsy seizures you had?                        37 non-null     object        \n",
            " 10  What is the treatment that was efficient in your case?                        36 non-null     object        \n",
            " 11  The Diagnosis that was applied(in your case) in order to detect the epilepsy  37 non-null     object        \n",
            " 12  To which extent you think the treatment was efficient?                        37 non-null     object        \n",
            " 13  How was the impact of epilepsy on your personal life?                         37 non-null     object        \n",
            " 14  How was the impact of epilepsy on your professional life?                     37 non-null     object        \n",
            "dtypes: datetime64[ns](1), object(14)\n",
            "memory usage: 4.5+ KB\n"
          ],
          "name": "stdout"
        }
      ]
    },
    {
      "cell_type": "code",
      "metadata": {
        "colab": {
          "base_uri": "https://localhost:8080/"
        },
        "id": "wqVhgBOJbFgP",
        "outputId": "bb43f3eb-c3c0-42c8-e90a-8592171296e5"
      },
      "source": [
        "df.isnull().sum()"
      ],
      "execution_count": null,
      "outputs": [
        {
          "output_type": "execute_result",
          "data": {
            "text/plain": [
              "Horodateur                                                                      25\n",
              "Patient age                                                                      0\n",
              "Gender                                                                           0\n",
              "TRADES BY SECTOR                                                                 0\n",
              "social class                                                                     0\n",
              "Region                                                                           0\n",
              "What is the type of epilepsy you have?                                           0\n",
              "Do you have a family member who was diagnosed with epilepsy?                     0\n",
              "If the answer is yes, what was the type of epilepsy he had?                     19\n",
              "What is/are the cause(s) of epilepsy seizures you had?                           0\n",
              "What is the treatment that was efficient in your case?                           1\n",
              "The Diagnosis that was applied(in your case) in order to detect the epilepsy     0\n",
              "To which extent you think the treatment was efficient?                           0\n",
              "How was the impact of epilepsy on your personal life?                            0\n",
              "How was the impact of epilepsy on your professional life?                        0\n",
              "dtype: int64"
            ]
          },
          "metadata": {
            "tags": []
          },
          "execution_count": 9
        }
      ]
    },
    {
      "cell_type": "code",
      "metadata": {
        "id": "YwcWB5HhbH1g"
      },
      "source": [
        "df.drop(columns=[\"Horodateur\"],inplace=True)"
      ],
      "execution_count": null,
      "outputs": []
    },
    {
      "cell_type": "code",
      "metadata": {
        "colab": {
          "base_uri": "https://localhost:8080/"
        },
        "id": "lSsdeTBJbQN5",
        "outputId": "64d2bbfd-62ce-44bd-955a-9552913e9e81"
      },
      "source": [
        "df.columns"
      ],
      "execution_count": null,
      "outputs": [
        {
          "output_type": "execute_result",
          "data": {
            "text/plain": [
              "Index(['Patient age ', 'Gender', 'TRADES BY SECTOR', 'social class', 'Region',\n",
              "       'What is the type of epilepsy you have?',\n",
              "       'Do you have a family member who was diagnosed with epilepsy?',\n",
              "       'If the answer is yes, what was the type of epilepsy he had?',\n",
              "       'What is/are the cause(s) of epilepsy seizures you had?',\n",
              "       'What is the treatment that was efficient in your case?',\n",
              "       'The Diagnosis that was applied(in your case) in order to detect the epilepsy',\n",
              "       'To which extent you think the treatment was efficient?',\n",
              "       'How was the impact of epilepsy on your personal life?',\n",
              "       'How was the impact of epilepsy on your professional life?'],\n",
              "      dtype='object')"
            ]
          },
          "metadata": {
            "tags": []
          },
          "execution_count": 11
        }
      ]
    },
    {
      "cell_type": "code",
      "metadata": {
        "colab": {
          "base_uri": "https://localhost:8080/"
        },
        "id": "W7xpmW8RfXU_",
        "outputId": "05bef81c-c585-4136-cea7-a1a5670ed956"
      },
      "source": [
        "df1 =df.rename(columns = {'Do you have a family member who was diagnosed with epilepsy?':'family member','What is the type of epilepsy you have?':'Type','If the answer is yes, what was the type of epilepsy he had?':'member type','What is the treatment that was efficient in your case?':'treatment'})\n",
        "df2=df1.rename(columns = {'The Diagnosis that was applied(in your case) in order to detect the epilepsy':'Diagnosis','To which extent you think the treatment was efficient?':'treatment efficient'})\n",
        "df3=df2.rename(columns = {'What is/are the cause(s) of epilepsy seizures you had?':'seizures cause','How was the impact of epilepsy on your personal life?':'personal impact','How was the impact of epilepsy on your professional life?':'professional impact'})\n",
        "df3.columns"
      ],
      "execution_count": null,
      "outputs": [
        {
          "output_type": "execute_result",
          "data": {
            "text/plain": [
              "Index(['Patient age ', 'Gender', 'TRADES BY SECTOR', 'social class', 'Region',\n",
              "       'Type', 'family member', 'member type', 'seizures cause', 'treatment',\n",
              "       'Diagnosis', 'treatment efficient', 'personal impact',\n",
              "       'professional impact'],\n",
              "      dtype='object')"
            ]
          },
          "metadata": {
            "tags": []
          },
          "execution_count": 12
        }
      ]
    },
    {
      "cell_type": "code",
      "metadata": {
        "colab": {
          "base_uri": "https://localhost:8080/"
        },
        "id": "nuIvLVhOf5EP",
        "outputId": "c13b8f6b-0e96-4812-f44c-f0b95e7e4a65"
      },
      "source": [
        "df3.isnull().sum()"
      ],
      "execution_count": null,
      "outputs": [
        {
          "output_type": "execute_result",
          "data": {
            "text/plain": [
              "Patient age             0\n",
              "Gender                  0\n",
              "TRADES BY SECTOR        0\n",
              "social class            0\n",
              "Region                  0\n",
              "Type                    0\n",
              "family member           0\n",
              "member type            19\n",
              "seizures cause          0\n",
              "treatment               1\n",
              "Diagnosis               0\n",
              "treatment efficient     0\n",
              "personal impact         0\n",
              "professional impact     0\n",
              "dtype: int64"
            ]
          },
          "metadata": {
            "tags": []
          },
          "execution_count": 13
        }
      ]
    },
    {
      "cell_type": "code",
      "metadata": {
        "id": "bzCXn1HabSob"
      },
      "source": [
        "df3=df3.replace(\" \",np.nan)"
      ],
      "execution_count": null,
      "outputs": []
    },
    {
      "cell_type": "code",
      "metadata": {
        "colab": {
          "base_uri": "https://localhost:8080/"
        },
        "id": "FkTeo2QifxOT",
        "outputId": "4b9a210f-95f0-4481-944b-3605415462cf"
      },
      "source": [
        "df3[\"treatment\"].value_counts()"
      ],
      "execution_count": null,
      "outputs": [
        {
          "output_type": "execute_result",
          "data": {
            "text/plain": [
              "Medication        23\n",
              "Surgery           12\n",
              "Ketogenic diet     1\n",
              "Name: treatment, dtype: int64"
            ]
          },
          "metadata": {
            "tags": []
          },
          "execution_count": 15
        }
      ]
    },
    {
      "cell_type": "code",
      "metadata": {
        "id": "9geNVR1TgDw3"
      },
      "source": [
        ""
      ],
      "execution_count": null,
      "outputs": []
    },
    {
      "cell_type": "code",
      "metadata": {
        "colab": {
          "base_uri": "https://localhost:8080/"
        },
        "id": "jxe2Vp2fbnD3",
        "outputId": "bcad74fe-78c0-41fa-b8de-e84c9d1b1042"
      },
      "source": [
        "df3[\"Gender\"].value_counts()"
      ],
      "execution_count": null,
      "outputs": [
        {
          "output_type": "execute_result",
          "data": {
            "text/plain": [
              "Female    22\n",
              "Male      15\n",
              "Name: Gender, dtype: int64"
            ]
          },
          "metadata": {
            "tags": []
          },
          "execution_count": 16
        }
      ]
    },
    {
      "cell_type": "code",
      "metadata": {
        "colab": {
          "base_uri": "https://localhost:8080/"
        },
        "id": "S4I_0sRLbvdc",
        "outputId": "4e0efeab-ee1c-4d40-c49e-5367f43065e5"
      },
      "source": [
        "df3[\"social class\"].value_counts()"
      ],
      "execution_count": null,
      "outputs": [
        {
          "output_type": "execute_result",
          "data": {
            "text/plain": [
              "Middle class    14\n",
              "Lower class     12\n",
              "Upper class     11\n",
              "Name: social class, dtype: int64"
            ]
          },
          "metadata": {
            "tags": []
          },
          "execution_count": 17
        }
      ]
    },
    {
      "cell_type": "code",
      "metadata": {
        "colab": {
          "base_uri": "https://localhost:8080/"
        },
        "id": "1RxM8BRLb76Z",
        "outputId": "a3f4c5b7-6ab0-4072-e5be-c93a9919ac26"
      },
      "source": [
        "df3[\"Patient age \"].value_counts()"
      ],
      "execution_count": null,
      "outputs": [
        {
          "output_type": "execute_result",
          "data": {
            "text/plain": [
              "Youth (15-24 years)            14\n",
              "Adults (25-64 years)           13\n",
              "Seniors (65 years and over)     9\n",
              "Children (00-14 years)          1\n",
              "Name: Patient age , dtype: int64"
            ]
          },
          "metadata": {
            "tags": []
          },
          "execution_count": 18
        }
      ]
    },
    {
      "cell_type": "code",
      "metadata": {
        "colab": {
          "base_uri": "https://localhost:8080/",
          "height": 296
        },
        "id": "lQh1FqYacB1V",
        "outputId": "16e8f1fb-e556-4fb3-f133-b014de7465a9"
      },
      "source": [
        "sns.countplot(x=df3[\"Gender\"])"
      ],
      "execution_count": null,
      "outputs": [
        {
          "output_type": "execute_result",
          "data": {
            "text/plain": [
              "<matplotlib.axes._subplots.AxesSubplot at 0x7fabfa31e790>"
            ]
          },
          "metadata": {
            "tags": []
          },
          "execution_count": 19
        },
        {
          "output_type": "display_data",
          "data": {
            "image/png": "[encoded data removed]",
            "text/plain": [
              "<Figure size 432x288 with 1 Axes>"
            ]
          },
          "metadata": {
            "tags": [],
            "needs_background": "light"
          }
        }
      ]
    },
    {
      "cell_type": "code",
      "metadata": {
        "colab": {
          "base_uri": "https://localhost:8080/"
        },
        "id": "OJtrggJWf9GG",
        "outputId": "acda05db-e9f4-4066-da07-0cc55d0ca9b7"
      },
      "source": [
        "df3[\"Region\"].value_counts()"
      ],
      "execution_count": null,
      "outputs": [
        {
          "output_type": "execute_result",
          "data": {
            "text/plain": [
              "North Africa           8\n",
              "East Asia              7\n",
              "Central Africa         4\n",
              "East Africa            3\n",
              "South Asia             2\n",
              "West Africa            2\n",
              "Central Europe         2\n",
              "North America          1\n",
              "Southern Africa        1\n",
              "Northwestern Europe    1\n",
              "Southeastern Europe    1\n",
              "East-Central Europe    1\n",
              "Southwestern Europe    1\n",
              "Western Europe         1\n",
              "South America          1\n",
              "Northeastern Europe    1\n",
              "Name: Region, dtype: int64"
            ]
          },
          "metadata": {
            "tags": []
          },
          "execution_count": 20
        }
      ]
    },
    {
      "cell_type": "code",
      "metadata": {
        "id": "c0n9-jj5gZX2",
        "colab": {
          "base_uri": "https://localhost:8080/"
        },
        "outputId": "3244e3c2-48c1-4bd6-e28d-6204ed05b769"
      },
      "source": [
        "df3.columns"
      ],
      "execution_count": null,
      "outputs": [
        {
          "output_type": "execute_result",
          "data": {
            "text/plain": [
              "Index(['Patient age ', 'Gender', 'TRADES BY SECTOR', 'social class', 'Region',\n",
              "       'Type', 'family member', 'member type', 'seizures cause', 'treatment',\n",
              "       'Diagnosis', 'treatment efficient', 'personal impact',\n",
              "       'professional impact'],\n",
              "      dtype='object')"
            ]
          },
          "metadata": {
            "tags": []
          },
          "execution_count": 21
        }
      ]
    },
    {
      "cell_type": "code",
      "metadata": {
        "colab": {
          "base_uri": "https://localhost:8080/"
        },
        "id": "bw3l_Fspju_Z",
        "outputId": "d42dbc9b-3745-4f03-8f3e-b97fa2670308"
      },
      "source": [
        "df3[\"seizures cause\"].value_counts()"
      ],
      "execution_count": null,
      "outputs": [
        {
          "output_type": "execute_result",
          "data": {
            "text/plain": [
              "Low oxygen during birth                                                                                                                                                                                                                                                                 8\n",
              "Injury before birth                                                                                                                                                                                                                                                                     3\n",
              "Developmental disorders, such as autism and neurofibromatosis                                                                                                                                                                                                                           3\n",
              "other(s)                                                                                                                                                                                                                                                                                3\n",
              "Brain tumors                                                                                                                                                                                                                                                                            3\n",
              "Genetic conditions that result in brain injury, such as tuberous sclerosis                                                                                                                                                                                                              2\n",
              "Low oxygen during birth, Genetic conditions that result in brain injury, such as tuberous sclerosis                                                                                                                                                                                     2\n",
              "Low oxygen during birth, Serious illness or very high fever, Head injuries that occur during birth or from accidents during youth or adulthood                                                                                                                                          2\n",
              "Head injuries that occur during birth or from accidents during youth or adulthood                                                                                                                                                                                                       1\n",
              "Abnormal levels of substances such as sodium or blood sugar                                                                                                                                                                                                                             1\n",
              "Dementia/Alzheimer's disease, Genetic conditions that result in brain injury, such as tuberous sclerosis, Infections such as meningitis or encephalitis                                                                                                                                 1\n",
              "Brain tumors, Dementia/Alzheimer's disease, Genetic conditions that result in brain injury, such as tuberous sclerosis                                                                                                                                                                  1\n",
              "Brain tumors, Genetic conditions that result in brain injury, such as tuberous sclerosis, Stroke or any other type of damage to the brain                                                                                                                                               1\n",
              "Dementia/Alzheimer's disease, Genetic conditions that result in brain injury, such as tuberous sclerosis, Infections such as meningitis or encephalitis, Developmental disorders, such as autism and neurofibromatosis                                                                  1\n",
              "Serious illness or very high fever                                                                                                                                                                                                                                                      1\n",
              "Low oxygen during birth, Serious illness or very high fever, Brain tumors, Genetic conditions that result in brain injury, such as tuberous sclerosis, Infections such as meningitis or encephalitis, Stroke or any other type of damage to the brain, Injury before birth, other(s)    1\n",
              "Stroke or any other type of damage to the brain                                                                                                                                                                                                                                         1\n",
              "Infections such as meningitis or encephalitis                                                                                                                                                                                                                                           1\n",
              "Head injuries that occur during birth or from accidents during youth or adulthood, Abnormal levels of substances such as sodium or blood sugar, Developmental disorders, such as autism and neurofibromatosis                                                                           1\n",
              "Name: seizures cause, dtype: int64"
            ]
          },
          "metadata": {
            "tags": []
          },
          "execution_count": 22
        }
      ]
    },
    {
      "cell_type": "code",
      "metadata": {
        "colab": {
          "base_uri": "https://localhost:8080/",
          "height": 429
        },
        "id": "2RGaCtPsjCJT",
        "outputId": "e56986b4-0993-4869-8a39-e508bbb00fc4"
      },
      "source": [
        "Birth_low_O2=df3.loc[df3['seizures cause']=='Low oxygen during birth'].count()[0]\n",
        "Brain_tumors=df3.loc[df3['seizures cause']=='Brain tumors'].count()[0]\n",
        "neurofibromatosis=df3.loc[df3['seizures cause']=='Developmental disorders, such as autism and neurofibromatosis'].count()[0]\n",
        "Injury_birth=df3.loc[df3['seizures cause']=='Injury before birth'].count()[0]\n",
        "\n",
        "plt.style.use(\"ggplot\")\n",
        "labels=[\"Birth_low_O2\",\"Brain_tumors\",\"neurofibromatosis\",\"Injury_birth\"]\n",
        "plt.pie([Birth_low_O2,Brain_tumors,neurofibromatosis,Injury_birth],labels =labels, autopct='%.2f %%')\n",
        "plt.title('seizures cause')\n",
        "plt.show()"
      ],
      "execution_count": null,
      "outputs": [
        {
          "output_type": "display_data",
          "data": {
            "image/png": "[encoded data removed]",
            "text/plain": [
              "<Figure size 640x480 with 1 Axes>"
            ]
          },
          "metadata": {
            "tags": []
          }
        }
      ]
    },
    {
      "cell_type": "code",
      "metadata": {
        "colab": {
          "base_uri": "https://localhost:8080/"
        },
        "id": "JvChxHzRIIzc",
        "outputId": "9911f8aa-b596-40e6-ec3c-5c96d0fcac34"
      },
      "source": [
        "df3[\"TRADES BY SECTOR\"].value_counts()\n",
        "      "
      ],
      "execution_count": null,
      "outputs": [
        {
          "output_type": "execute_result",
          "data": {
            "text/plain": [
              "Transport-Logistics              6\n",
              "Industry                         6\n",
              "It, Telecoms, Web                6\n",
              "Building, Public Works           4\n",
              "Teaching                         2\n",
              "Audiovisual, Cinema              2\n",
              "Medical                          2\n",
              "Fashion-Textile                  2\n",
              "Banking, Insurance               2\n",
              "Biology, Chemistry, Pharmacy     1\n",
              "Secretariat                      1\n",
              "Sport                            1\n",
              "Audit, Accounting, Management    1\n",
              "Journalism                       1\n",
              "Name: TRADES BY SECTOR, dtype: int64"
            ]
          },
          "metadata": {
            "tags": []
          },
          "execution_count": 24
        }
      ]
    },
    {
      "cell_type": "code",
      "metadata": {
        "colab": {
          "base_uri": "https://localhost:8080/",
          "height": 429
        },
        "id": "3_kR8SqmlnId",
        "outputId": "783ff01f-4372-49d5-e728-0e2f86f2ae4a"
      },
      "source": [
        "Birth_low_O2=df3.loc[df3['TRADES BY SECTOR']=='Transport-Logistics'].count()[0]\n",
        "Brain_tumors=df3.loc[df3['TRADES BY SECTOR']=='Industry'].count()[0]\n",
        "neurofibromatosis=df3.loc[df3['TRADES BY SECTOR']=='It, Telecoms, Web'].count()[0]\n",
        "Injury_birth=df3.loc[df3['TRADES BY SECTOR']=='Building, Public Works'].count()[0]\n",
        "Injury_birth2=df3.loc[df3['TRADES BY SECTOR']=='Teaching'].count()[0]\n",
        "Injury_birth3=df3.loc[df3['TRADES BY SECTOR']=='Fashion-Textile'].count()[0]\n",
        "plt.style.use(\"ggplot\")\n",
        "labels=[\"Transport-Logistics\",\"Industry\",\"It, Telecoms, Web\",\"Building, Public Works\",\"Teaching\",\"Fashion-Textile\"]\n",
        "plt.pie([Birth_low_O2,Brain_tumors,neurofibromatosis,Injury_birth,Injury_birth2,Injury_birth3],labels =labels, autopct='%.2f %%')\n",
        "plt.title('TRADES BY SECTOR')\n",
        "plt.show()"
      ],
      "execution_count": null,
      "outputs": [
        {
          "output_type": "display_data",
          "data": {
            "image/png": "[encoded data removed]",
            "text/plain": [
              "<Figure size 640x480 with 1 Axes>"
            ]
          },
          "metadata": {
            "tags": []
          }
        }
      ]
    },
    {
      "cell_type": "code",
      "metadata": {
        "colab": {
          "base_uri": "https://localhost:8080/"
        },
        "id": "Xggy10lNKuDO",
        "outputId": "86b7fcfb-cd72-40b1-9ee5-1ed5c4a4b8c0"
      },
      "source": [
        "df3[\"professional impact\"].value_counts()"
      ],
      "execution_count": null,
      "outputs": [
        {
          "output_type": "execute_result",
          "data": {
            "text/plain": [
              "It didnt affect my professional life in a remarkable way    13\n",
              "Very bad and determinant for my career                      13\n",
              "Bad impact but it was possible to deal with it              11\n",
              "Name: professional impact, dtype: int64"
            ]
          },
          "metadata": {
            "tags": []
          },
          "execution_count": 26
        }
      ]
    },
    {
      "cell_type": "code",
      "metadata": {
        "colab": {
          "base_uri": "https://localhost:8080/",
          "height": 429
        },
        "id": "zM6zKpOHEZXS",
        "outputId": "379fb8e6-99c9-4296-cf82-030428e3f65a"
      },
      "source": [
        "Birth_low_O2=df3.loc[df3['professional impact']=='Very bad and determinant for my career'].count()[0]\n",
        "Brain_tumors=df3.loc[df3['professional impact']=='It didnt affect my professional life in a remarkable way'].count()[0]\n",
        "neurofibromatosis=df3.loc[df3['professional impact']=='Bad impact but it was possible to deal with it'].count()[0]\n",
        "\n",
        "plt.style.use(\"ggplot\")\n",
        "\n",
        "labels=[\"Very bad and determinant for career\",\"It didnt affect\",\"Bad ,but it was possible to deal with it\"]\n",
        "plt.pie([Birth_low_O2,Brain_tumors,neurofibromatosis],labels =labels, autopct='%.2f %%')\n",
        "plt.title('professional impact')\n",
        "plt.show()"
      ],
      "execution_count": null,
      "outputs": [
        {
          "output_type": "display_data",
          "data": {
            "image/png": "[encoded data removed]",
            "text/plain": [
              "<Figure size 640x480 with 1 Axes>"
            ]
          },
          "metadata": {
            "tags": []
          }
        }
      ]
    },
    {
      "cell_type": "code",
      "metadata": {
        "colab": {
          "base_uri": "https://localhost:8080/"
        },
        "id": "WvXw1LGsLrrZ",
        "outputId": "4cdbeeff-07d9-4511-d240-4c56a6f4e21b"
      },
      "source": [
        "df3[\"family member\"].value_counts()"
      ],
      "execution_count": null,
      "outputs": [
        {
          "output_type": "execute_result",
          "data": {
            "text/plain": [
              "No     20\n",
              "Yes    17\n",
              "Name: family member, dtype: int64"
            ]
          },
          "metadata": {
            "tags": []
          },
          "execution_count": 28
        }
      ]
    },
    {
      "cell_type": "code",
      "metadata": {
        "colab": {
          "base_uri": "https://localhost:8080/",
          "height": 428
        },
        "id": "C5HuYZeoL6z3",
        "outputId": "96a9679d-e5d3-4fa8-8d5b-bd2af32027bc"
      },
      "source": [
        "Birth_low_O2=df3.loc[df3['family member']=='No'].count()[0]\n",
        "Brain_tumors=df3.loc[df3['family member']=='Yes'].count()[0]\n",
        "\n",
        "\n",
        "plt.style.use(\"default\")\n",
        "\n",
        "labels=[\"No\",\"Yes\"]\n",
        "plt.pie([Birth_low_O2,Brain_tumors],labels =labels, autopct='%.2f %%')\n",
        "plt.title('family member')\n",
        "plt.show()"
      ],
      "execution_count": null,
      "outputs": [
        {
          "output_type": "display_data",
          "data": {
            "image/png": "[encoded data removed]",
            "text/plain": [
              "<Figure size 640x480 with 1 Axes>"
            ]
          },
          "metadata": {
            "tags": []
          }
        }
      ]
    },
    {
      "cell_type": "code",
      "metadata": {
        "colab": {
          "base_uri": "https://localhost:8080/"
        },
        "id": "p-Z9ktFdMQsK",
        "outputId": "cbc78dc3-25dc-40f7-b840-b603217879b0"
      },
      "source": [
        "df3[\"treatment efficient\"].value_counts()"
      ],
      "execution_count": null,
      "outputs": [
        {
          "output_type": "execute_result",
          "data": {
            "text/plain": [
              "between 30% and 60%    20\n",
              "less than 30%          12\n",
              "between 60% and 90%     4\n",
              "more than 90%           1\n",
              "Name: treatment efficient, dtype: int64"
            ]
          },
          "metadata": {
            "tags": []
          },
          "execution_count": 30
        }
      ]
    },
    {
      "cell_type": "code",
      "metadata": {
        "colab": {
          "base_uri": "https://localhost:8080/",
          "height": 429
        },
        "id": "IKU4Ga3kMQ4B",
        "outputId": "9e58bcb9-d68c-4133-9253-39eba7b6901f"
      },
      "source": [
        "Birth_low_O2=df3.loc[df3['treatment efficient']=='between 30% and 60%'].count()[0]\n",
        "Brain_tumors=df3.loc[df3['treatment efficient']=='less than 30%'].count()[0]\n",
        "neurofibromatosis=df3.loc[df3['treatment efficient']=='between 60% and 90%'].count()[0]\n",
        "Injury_birth=df3.loc[df3['treatment efficient']=='more than 90%'].count()[0]\n",
        "\n",
        "plt.style.use(\"ggplot\")\n",
        "\n",
        "labels=[\"between 30% and 60%\",\"less than 30%\",\"between 60% and 90%\",\"more than 90%\"]\n",
        "plt.pie([Birth_low_O2,Brain_tumors,neurofibromatosis,Injury_birth],labels =labels, autopct='%.2f %%')\n",
        "plt.title('treatment efficient')\n",
        "plt.show()"
      ],
      "execution_count": null,
      "outputs": [
        {
          "output_type": "display_data",
          "data": {
            "image/png": "[encoded data removed]",
            "text/plain": [
              "<Figure size 640x480 with 1 Axes>"
            ]
          },
          "metadata": {
            "tags": []
          }
        }
      ]
    },
    {
      "cell_type": "code",
      "metadata": {
        "id": "RD0AVOqeMq8X"
      },
      "source": [
        "+"
      ],
      "execution_count": null,
      "outputs": []
    }
  ]
}